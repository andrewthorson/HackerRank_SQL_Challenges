{
 "cells": [
  {
   "cell_type": "markdown",
   "metadata": {},
   "source": [
    "# SQL Aggregation\n",
    "<p>The following practice problems were completed on <a href=\"www.hackerrank.com\">HackerRank.com</a>.</p>\n",
    "<p>Generally speaking, the problems ascend from easier to more difficult.</p>\n",
    "<p>Relational Database Management System: <b>MySQL</b></p>"
   ]
  },
  {
   "cell_type": "markdown",
   "metadata": {},
   "source": [
    "## Problem Set Table #1"
   ]
  },
  {
   "cell_type": "markdown",
   "metadata": {},
   "source": [
    "The STATION table is described as follows:\n",
    "<img src='images/1449345840-5f0a551030-Station.jpg'>\n",
    "where LAT_N is the northern latitude and LONG_W is the western longitude."
   ]
  },
  {
   "cell_type": "markdown",
   "metadata": {},
   "source": [
    "### Problems\n",
    "1. Weather Observation Station 17: Query the Western Longitude (LONG_W)where the smallest Northern Latitude (LAT_N) in STATION is greater than 38.7780. Round your answer to 4 decimal places. (Difficulty: <span style='color:green'>Easy</span>)\n",
    "2. Weather Observation Station 18: Consider P<sub>1</sub>(a, b) and P<sub>2</sub>(c, d) to be two points on a 2D plane.  \n",
    "  - a happens to equal the minimum value in Northern Latitude (LAT_N in STATION).\n",
    "  - b happens to equal the minimum value in Western Longitude (LONG_W in STATION).\n",
    "  - c happens to equal the maximum value in Northern Latitude (LAT_N in STATION).\n",
    "  - d happens to equal the maximum value in Western Longitude (LONG_W in STATION).\n",
    "    \n",
    "  Query the <a href='https://xlinux.nist.gov/dads/HTML/manhattanDistance.html'>Manhattan Distance</a> between points P<sub>1</sub> and P<sub>2</sub> and round it to a scale of 4 decimal places. (Difficulty: <span style='color:orange'>Medium</span>)\n",
    "3. Weather Observation Station 19: Consider P<sub>1</sub>(a, c) and P<sub>2</sub>(b, d) to be two points on a 2D plane where (a, b) are the respective minimum and maximum values of Northern Latitude (LAT_N) and (c, d) are the respective minimum and maximum values of Western Longitude (LONG_W) in STATION. Query the <a href='https://en.wikipedia.org/wiki/Euclidean_distance'>Euclidean Distance</a> between points P<sub>1</sub> and P<sub>2</sub> and format your answer to display 4 decimal digits. (Difficulty: <span style='color:orange'>Medium</span>)\n",
    "4. Weather Observation Station 20: A <a href='https://en.wikipedia.org/wiki/Median'>median</a> is defined as a number separating the higher half of a data set from the lower half. Query the median of the Northern Latitudes (LAT_N) from STATION and round your answer to 4 decimal places. (Difficulty: <span style='color:orange'>Medium</span>)"
   ]
  },
  {
   "cell_type": "markdown",
   "metadata": {},
   "source": [
    "#### Query #1\n",
    "Weather Observation Station 1: Query a list of CITY and STATE from the STATION table. (Difficulty: <span style='color:green'>Easy</span>)\n",
    "##### Query\n",
    "SELECT ROUND(LONG_W, 4)  \n",
    "FROM STATION  \n",
    "WHERE LAT_N > 38.7780  \n",
    "ORDER BY LAT_N ASC  \n",
    "LIMIT 1;  \n",
    "##### Output\n",
    "70.1378 "
   ]
  },
  {
   "cell_type": "markdown",
   "metadata": {},
   "source": [
    "#### Query #2\n",
    "Weather Observation Station 18: Consider P<sub>1</sub>(a, b) and P<sub>2</sub>(c, d) to be two points on a 2D plane.  \n",
    "- a happens to equal the minimum value in Northern Latitude (LAT_N in STATION).\n",
    "- b happens to equal the minimum value in Western Longitude (LONG_W in STATION).\n",
    "- c happens to equal the maximum value in Northern Latitude (LAT_N in STATION).\n",
    "- d happens to equal the maximum value in Western Longitude (LONG_W in STATION).\n",
    "  \n",
    "Query the <a href='https://xlinux.nist.gov/dads/HTML/manhattanDistance.html'>Manhattan Distance</a> between points P<sub>1</sub> and P<sub>2</sub> and round it to a scale of 4 decimal places. (Difficulty: <span style='color:orange'>Medium</span>)\n",
    "##### Query\n",
    "SELECT ROUND(ABS(MIN(LAT_N) - MAX(LAT_N)) + ABS(MIN(LONG_W) - MAX(LONG_W)), 4)  \n",
    "FROM STATION;  \n",
    "##### Output\n",
    "259.6859 "
   ]
  },
  {
   "cell_type": "markdown",
   "metadata": {},
   "source": [
    "#### Query #3\n",
    "Weather Observation Station 19: Consider P<sub>1</sub>(a, c) and P<sub>2</sub>(b, d) to be two points on a 2D plane where (a, b) are the respective minimum and maximum values of Northern Latitude (LAT_N) and (c, d) are the respective minimum and maximum values of Western Longitude (LONG_W) in STATION. Query the <a href='https://en.wikipedia.org/wiki/Euclidean_distance'>Euclidean Distance</a> between points P<sub>1</sub> and P<sub>2</sub> and format your answer to display 4 decimal digits. (Difficulty: <span style='color:orange'>Medium</span>)\n",
    "##### Query\n",
    "SELECT ROUND(POWER(POWER(MIN(LAT_N) - MAX(LAT_N), 2) + POWER(MIN(LONG_W) - MAX(LONG_W), 2), .5), 4)  \n",
    "FROM STATION;  \n",
    "##### Output\n",
    "184.1616  "
   ]
  },
  {
   "cell_type": "markdown",
   "metadata": {},
   "source": [
    "#### Query #4\n",
    "Weather Observation Station 20: A <a href='https://en.wikipedia.org/wiki/Median'>median</a> is defined as a number separating the higher half of a data set from the lower half. Query the median of the Northern Latitudes (LAT_N) from STATION and round your answer to 4 decimal places. (Difficulty: <span style='color:orange'>Medium</span>)\n",
    "##### Query\n",
    "SELECT ROUND(S.LAT_N,4)  \n",
    "FROM STATION S  \n",
    "WHERE (SELECT COUNT(LAT_N) FROM STATION WHERE LAT_N < S.LAT_N ) = (SELECT COUNT(LAT_N) FROM STATION WHERE LAT_N > S.LAT_N)  \n",
    "##### Output\n",
    "83.8913"
   ]
  },
  {
   "cell_type": "code",
   "execution_count": null,
   "metadata": {},
   "outputs": [],
   "source": []
  }
 ],
 "metadata": {
  "kernelspec": {
   "display_name": "Python 3",
   "language": "python",
   "name": "python3"
  },
  "language_info": {
   "codemirror_mode": {
    "name": "ipython",
    "version": 3
   },
   "file_extension": ".py",
   "mimetype": "text/x-python",
   "name": "python",
   "nbconvert_exporter": "python",
   "pygments_lexer": "ipython3",
   "version": "3.6.4"
  }
 },
 "nbformat": 4,
 "nbformat_minor": 2
}

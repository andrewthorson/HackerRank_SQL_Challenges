{
 "cells": [
  {
   "cell_type": "markdown",
   "metadata": {},
   "source": [
    "# SQL Basic Join\n",
    "<p>The following practice problems were completed on <a href=\"www.hackerrank.com\">HackerRank.com</a>.</p>\n",
    "<p>Generally speaking, the problems ascend from easier to more difficult.</p>\n",
    "<p>Relational Database Management System: <b>MySQL</b></p>"
   ]
  },
  {
   "cell_type": "markdown",
   "metadata": {},
   "source": [
    "## Problem Set Tables #1"
   ]
  },
  {
   "cell_type": "markdown",
   "metadata": {},
   "source": [
    "The CITY and COUNTRY tables are described as follows:\n",
    "\n",
    "<img src='images/1449729804-f21d187d0f-CITY.jpg'>\n",
    "<img src='images/1449769013-e54ce90480-Country.jpg'>"
   ]
  },
  {
   "cell_type": "markdown",
   "metadata": {},
   "source": [
    "### Problems\n",
    "1. African Cities: Given the CITY and COUNTRY tables, query the names of all cities where the CONTINENT is 'Africa'.  Note: CITY.CountryCode and COUNTRY.Code are matching key columns. (Difficulty: <span style='color:green'>Easy</span>)\n",
    "2. Average Population of Each Continent: Given the CITY and COUNTRY tables, query the names of all the continents (COUNTRY.Continent) and their respective average city populations (CITY.Population) rounded down to the nearest integer. Note: CITY.CountryCode and COUNTRY.Code are matching key columns. (Difficulty: <span style='color:green'>Easy</span>)"
   ]
  },
  {
   "cell_type": "markdown",
   "metadata": {},
   "source": [
    "#### Query #1\n",
    "African Cities: Given the CITY and COUNTRY tables, query the names of all cities where the CONTINENT is 'Africa'.  \n",
    "Note: CITY.CountryCode and COUNTRY.Code are matching key columns. (Difficulty: Easy)\n",
    "##### Query\n",
    "SELECT CITY.NAME  \n",
    "FROM CITY  \n",
    "INNER JOIN COUNTRY ON CITY.COUNTRYCODE = COUNTRY.CODE  \n",
    "WHERE COUNTRY.CONTINENT = 'Africa';  \n",
    "##### Output\n",
    "Qina  \n",
    "Warraq al-Arab  \n",
    "Kempton Park  \n",
    "Alberton  \n",
    "Klerksdorp  \n",
    "Uitenhage  \n",
    "Brakpan  \n",
    "Libreville  "
   ]
  },
  {
   "cell_type": "markdown",
   "metadata": {},
   "source": [
    "#### Query #2\n",
    "Average Population of Each Continent: Given the CITY and COUNTRY tables, query the names of all the continents (COUNTRY.Continent) and their respective average city populations (CITY.Population) rounded down to the nearest integer. (Difficulty: <span style='color:green'>Easy</span>)  \n",
    "Note: CITY.CountryCode and COUNTRY.Code are matching key columns.\n",
    "##### Query\n",
    "SELECT COUNTRY.CONTINENT, FLOOR(AVG(CITY.POPULATION))  \n",
    "FROM CITY  \n",
    "INNER JOIN COUNTRY ON CITY.COUNTRYCODE = COUNTRY.CODE  \n",
    "GROUP BY COUNTRY.CONTINENT;    \n",
    "##### Output\n",
    "Africa 274439  \n",
    "Asia 693038  \n",
    "Europe 175138  \n",
    "Oceania 109189  \n",
    "South America 147435  "
   ]
  },
  {
   "cell_type": "markdown",
   "metadata": {},
   "source": [
    "## Problem Set Tables #2"
   ]
  },
  {
   "cell_type": "markdown",
   "metadata": {},
   "source": [
    "You are given two tables: Students and Grades.  \n",
    "Students contains three columns ID, Name and Marks.\n",
    "<img src='images/1443818166-a5c852caa0-1.png'>\n",
    "Grades contains the following data:\n",
    "<img src='images/1443818137-69b76d805c-2.png'>"
   ]
  },
  {
   "cell_type": "markdown",
   "metadata": {},
   "source": [
    "### Problems\n",
    "1. The Report: Ketty gives Eve a task to generate a report containing three columns: Name, Grade and Mark. Ketty doesn't want the NAMES of those students who received a grade lower than 8. The report must be in descending order by grade -- i.e. higher grades are entered first. If there is more than one student with the same grade (8-10) assigned to them, order those particular students by their name alphabetically. Finally, if the grade is lower than 8, use \"NULL\" as their name and list them by their grades in descending order. If there is more than one student with the same grade (1-7) assigned to them, order those particular students by their marks in ascending order. Write a query to help Eve. (Difficulty: <span style='color:orange'>Medium</span>)"
   ]
  },
  {
   "cell_type": "markdown",
   "metadata": {},
   "source": [
    "#### Query #1\n",
    "The Report: Ketty gives Eve a task to generate a report containing three columns: Name, Grade and Mark. Ketty doesn't want the NAMES of those students who received a grade lower than 8. The report must be in descending order by grade -- i.e. higher grades are entered first. If there is more than one student with the same grade (8-10) assigned to them, order those particular students by their name alphabetically. Finally, if the grade is lower than 8, use \"NULL\" as their name and list them by their grades in descending order. If there is more than one student with the same grade (1-7) assigned to them, order those particular students by their marks in ascending order. Write a query to help Eve. (Difficulty: <span style='color:orange'>Medium</span>)\n",
    "##### Query\n",
    "SELECT CASE WHEN Grade < 8 THEN 'NULL' ELSE Students.Name END, Grades.Grade, Students.Marks  \n",
    "FROM Students, Grades  \n",
    "WHERE Students.Marks BETWEEN Grades.Min_Mark AND Grades.Max_Mark  \n",
    "ORDER BY Grade DESC, Students.Name ASC;  \n",
    "##### Output\n",
    "Britney 10 95  \n",
    "Heraldo 10 94  \n",
    "Julia 10 96  \n",
    "Kristeen 10 100  \n",
    "Stuart 10 99  \n",
    "Amina 9 89  \n",
    "Christene 9 88  \n",
    "Salma 9 81  \n",
    "Samantha 9 87  \n",
    "Scarlet 9 80  \n",
    "Vivek 9 84  \n",
    "Aamina 8 77  \n",
    "Belvet 8 78  \n",
    "Paige 8 74  \n",
    "Priya 8 76  \n",
    "Priyanka 8 77  \n",
    "NULL 7 64  \n",
    "NULL 7 66  \n",
    "NULL 6 55  \n",
    "NULL 4 34  \n",
    "NULL 3 24  "
   ]
  },
  {
   "cell_type": "markdown",
   "metadata": {},
   "source": [
    "## Problem Set Tables #3"
   ]
  },
  {
   "cell_type": "markdown",
   "metadata": {},
   "source": [
    "The following tables contain contest data:\n",
    "- Hackers: The hacker_id is the id of the hacker, and name is the name of the hacker. <img src='images/1458526776-67667350b4-ScreenShot2016-03-21at7.45.59AM.png'>\n",
    "- Difficulty: The difficult_level is the level of difficulty of the challenge, and score is the score of the challenge for the difficulty level. <img src='images/1458526915-57eb75d9a2-ScreenShot2016-03-21at7.46.09AM.png'>\n",
    "- Challenges: The challenge_id is the id of the challenge, the hacker_id is the id of the hacker who created the challenge, and difficulty_level is the level of difficulty of the challenge. <img src='images/1458527032-f9ca650442-ScreenShot2016-03-21at7.46.17AM.png'>\n",
    "- Submissions: The submission_id is the id of the submission, hacker_id is the id of the hacker who made the submission, challenge_id is the id of the challenge that the submission belongs to, and score is the score of the submission. <img src='images/1458527077-298f8e922a-ScreenShot2016-03-21at7.46.29AM.png'>"
   ]
  },
  {
   "cell_type": "markdown",
   "metadata": {},
   "source": [
    "### Problems\n",
    "1. Top Competitors: Julia just finished conducting a coding contest, and she needs your help assembling the leaderboard! Write a query to print the respective hacker_id and name of hackers who achieved full scores for more than one challenge. Order your output in descending order by the total number of challenges in which the hacker earned a full score. If more than one hacker received full scores in same number of challenges, then sort them by ascending hacker_id. (Difficulty: <span style='color:orange'>Medium</span>)"
   ]
  },
  {
   "cell_type": "markdown",
   "metadata": {},
   "source": [
    "#### Query #1\n",
    "Top Competitors: Julia just finished conducting a coding contest, and she needs your help assembling the leaderboard! Write a query to print the respective hacker_id and name of hackers who achieved full scores for more than one challenge. Order your output in descending order by the total number of challenges in which the hacker earned a full score. If more than one hacker received full scores in same number of challenges, then sort them by ascending hacker_id. (Difficulty: <span style='color:orange'>Medium</span>)\n",
    "##### Query\n",
    "SELECT H.hacker_id, H.name  \n",
    "FROM Hackers H  \n",
    "INNER JOIN Submissions S ON H.hacker_id = S.hacker_id  \n",
    "INNER JOIN Challenges C ON S.challenge_id = C.challenge_id  \n",
    "INNER JOIN Difficulty D ON C.difficulty_level = D.difficulty_level  \n",
    "WHERE S.score = D.score  \n",
    "GROUP BY H.hacker_id, H.name  \n",
    "HAVING COUNT(S.hacker_id) > 1  \n",
    "ORDER BY COUNT(S.hacker_id) DESC, H.hacker_id ASC;  \n",
    "\n",
    "##### Output\n",
    "27232 Phillip  \n",
    "28614 Willie  \n",
    "15719 Christina  \n",
    "43892 Roy  \n",
    "14246 David  \n",
    "14372 Michelle  \n",
    "18330 Lawrence  \n",
    "26133 Jacqueline  \n",
    "26253 John  \n",
    "30128 Brandon  \n",
    "35583 Norma  \n",
    "13944 Victor  \n",
    "17295 Elizabeth  \n",
    "19076 Matthew  \n",
    "26895 Evelyn  \n",
    "32172 Jonathan  \n",
    "41293 Robin  \n",
    "45386 Christina  \n",
    "45785 Jesse  \n",
    "49652 Christine  \n",
    "13391 Robin  \n",
    "14366 Donna  \n",
    "14777 Gerald  \n",
    "16259 Brandon  \n",
    "17762 Joseph  \n",
    "28275 Debra  \n",
    "36228 Nancy  \n",
    "37704 Keith  \n",
    "40226 Anna  \n",
    "49307 Brian  \n",
    "12539 Paul  \n",
    "14363 Joyce  \n",
    "14658 Stephanie  \n",
    "19448 Jesse  \n",
    "20504 John  \n",
    "20534 Martha  \n",
    "22196 Anthony  \n",
    "23678 Kimberly  \n",
    "28299 David  \n",
    "30721 Ann  \n",
    "32254 Dorothy  \n",
    "46205 Joyce  \n",
    "47641 Patricia  \n",
    "13122 James  \n",
    "13762 Gloria  \n",
    "14863 Walter  \n",
    "18690 Marilyn  \n",
    "18983 Lori  \n",
    "21212 Timothy  \n",
    "25732 Antonio  \n",
    "28250 Evelyn  \n",
    "30755 Emily  \n",
    "38852 Benjamin  \n",
    "42052 Andrew  \n",
    "44188 Diana  \n",
    "48984 Gregory  \n",
    "13380 Kelly  \n",
    "13523 Ralph  \n",
    "21463 Christine  \n",
    "24663 Louise  \n",
    "26243 Diana  \n",
    "26289 Dorothy  \n",
    "39277 Charles  \n",
    "23278 Paula  \n",
    "25184 Martin  \n",
    "32121 Dorothy  \n",
    "36322 Andrew  \n",
    "39782 Tammy  \n",
    "40257 James  \n",
    "41319 Jean  \n",
    "10857 Kevin  \n",
    "25238 Paul  \n",
    "34242 Marilyn  \n",
    "39771 Alan  \n",
    "49789 Lillian  \n",
    "57947 Justin  \n",
    "74413 Harry "
   ]
  }
 ],
 "metadata": {
  "kernelspec": {
   "display_name": "Python 3",
   "language": "python",
   "name": "python3"
  },
  "language_info": {
   "codemirror_mode": {
    "name": "ipython",
    "version": 3
   },
   "file_extension": ".py",
   "mimetype": "text/x-python",
   "name": "python",
   "nbconvert_exporter": "python",
   "pygments_lexer": "ipython3",
   "version": "3.6.4"
  }
 },
 "nbformat": 4,
 "nbformat_minor": 2
}
